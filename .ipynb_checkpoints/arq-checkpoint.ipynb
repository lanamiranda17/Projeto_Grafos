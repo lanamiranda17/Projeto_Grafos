{
 "cells": [
  {
   "cell_type": "code",
   "execution_count": 48,
   "id": "9c2ccb3b",
   "metadata": {},
   "outputs": [],
   "source": [
    "import importlib \n",
    "import proj\n",
    "\n",
    "importlib.reload(proj)\n",
    "from proj import*"
   ]
  },
  {
   "cell_type": "code",
   "execution_count": 49,
   "id": "975e7a50",
   "metadata": {},
   "outputs": [],
   "source": [
    "arq_entrada = input(\"Digite o nome do arquivo: \")\n",
    "cabecalho, grafo = ler_entrada(arq_entrada)\n"
   ]
  },
  {
   "cell_type": "code",
   "execution_count": 50,
   "id": "9847e3eb",
   "metadata": {},
   "outputs": [],
   "source": [
    "exportar_csv(cabecalho, grafo)\n",
    "\n"
   ]
  },
  {
   "cell_type": "code",
   "execution_count": 51,
   "id": "799514c0",
   "metadata": {},
   "outputs": [
    {
     "data": {
      "text/html": [
       "<style type=\"text/css\">\n",
       "</style>\n",
       "<table id=\"T_ba7bc\">\n",
       "  <caption>ESTÁTISTICAS BÁSICAS DO GRAFO:</caption>\n",
       "  <thead>\n",
       "    <tr>\n",
       "      <th id=\"T_ba7bc_level0_col0\" class=\"col_heading level0 col0\" >Estatísticas</th>\n",
       "      <th id=\"T_ba7bc_level0_col1\" class=\"col_heading level0 col1\" >Valor</th>\n",
       "    </tr>\n",
       "  </thead>\n",
       "  <tbody>\n",
       "    <tr>\n",
       "      <td id=\"T_ba7bc_row0_col0\" class=\"data row0 col0\" >Quantidade de vértices:</td>\n",
       "      <td id=\"T_ba7bc_row0_col1\" class=\"data row0 col1\" >12</td>\n",
       "    </tr>\n",
       "    <tr>\n",
       "      <td id=\"T_ba7bc_row1_col0\" class=\"data row1 col0\" >Quantidade de arestas:</td>\n",
       "      <td id=\"T_ba7bc_row1_col1\" class=\"data row1 col1\" >11</td>\n",
       "    </tr>\n",
       "    <tr>\n",
       "      <td id=\"T_ba7bc_row2_col0\" class=\"data row2 col0\" >Quantidade de arcos:</td>\n",
       "      <td id=\"T_ba7bc_row2_col1\" class=\"data row2 col1\" >22</td>\n",
       "    </tr>\n",
       "    <tr>\n",
       "      <td id=\"T_ba7bc_row3_col0\" class=\"data row3 col0\" >Quantidade de vértices requeridos:</td>\n",
       "      <td id=\"T_ba7bc_row3_col1\" class=\"data row3 col1\" >7</td>\n",
       "    </tr>\n",
       "    <tr>\n",
       "      <td id=\"T_ba7bc_row4_col0\" class=\"data row4 col0\" >Quantidade de arestas requeridas:</td>\n",
       "      <td id=\"T_ba7bc_row4_col1\" class=\"data row4 col1\" >11</td>\n",
       "    </tr>\n",
       "    <tr>\n",
       "      <td id=\"T_ba7bc_row5_col0\" class=\"data row5 col0\" >Quantidade de arcos requeridos:</td>\n",
       "      <td id=\"T_ba7bc_row5_col1\" class=\"data row5 col1\" >11</td>\n",
       "    </tr>\n",
       "    <tr>\n",
       "      <td id=\"T_ba7bc_row6_col0\" class=\"data row6 col0\" >Densidade do grafo:</td>\n",
       "      <td id=\"T_ba7bc_row6_col1\" class=\"data row6 col1\" >0.5</td>\n",
       "    </tr>\n",
       "    <tr>\n",
       "      <td id=\"T_ba7bc_row7_col0\" class=\"data row7 col0\" >Grau total máximo:</td>\n",
       "      <td id=\"T_ba7bc_row7_col1\" class=\"data row7 col1\" >10</td>\n",
       "    </tr>\n",
       "    <tr>\n",
       "      <td id=\"T_ba7bc_row8_col0\" class=\"data row8 col0\" >Grau de entrada máximo:</td>\n",
       "      <td id=\"T_ba7bc_row8_col1\" class=\"data row8 col1\" >5</td>\n",
       "    </tr>\n",
       "    <tr>\n",
       "      <td id=\"T_ba7bc_row9_col0\" class=\"data row9 col0\" >Grau de sída máximo:</td>\n",
       "      <td id=\"T_ba7bc_row9_col1\" class=\"data row9 col1\" >5</td>\n",
       "    </tr>\n",
       "    <tr>\n",
       "      <td id=\"T_ba7bc_row10_col0\" class=\"data row10 col0\" >Grau total mínimo:</td>\n",
       "      <td id=\"T_ba7bc_row10_col1\" class=\"data row10 col1\" >4</td>\n",
       "    </tr>\n",
       "    <tr>\n",
       "      <td id=\"T_ba7bc_row11_col0\" class=\"data row11 col0\" >Grau de entrada mínimo:</td>\n",
       "      <td id=\"T_ba7bc_row11_col1\" class=\"data row11 col1\" >1</td>\n",
       "    </tr>\n",
       "    <tr>\n",
       "      <td id=\"T_ba7bc_row12_col0\" class=\"data row12 col0\" >Grau de saída mínmo:</td>\n",
       "      <td id=\"T_ba7bc_row12_col1\" class=\"data row12 col1\" >1</td>\n",
       "    </tr>\n",
       "  </tbody>\n",
       "</table>\n"
      ],
      "text/plain": [
       "<pandas.io.formats.style.Styler at 0x1ec6d508e10>"
      ]
     },
     "metadata": {},
     "output_type": "display_data"
    }
   ],
   "source": [
    "from IPython.display import display\n",
    "\n",
    "styled_df_estatisticas = visualizar_estatisticas()\n",
    "display(styled_df_estatisticas)"
   ]
  }
 ],
 "metadata": {
  "kernelspec": {
   "display_name": "Python 3",
   "language": "python",
   "name": "python3"
  },
  "language_info": {
   "codemirror_mode": {
    "name": "ipython",
    "version": 3
   },
   "file_extension": ".py",
   "mimetype": "text/x-python",
   "name": "python",
   "nbconvert_exporter": "python",
   "pygments_lexer": "ipython3",
   "version": "3.13.2"
  }
 },
 "nbformat": 4,
 "nbformat_minor": 5
}
