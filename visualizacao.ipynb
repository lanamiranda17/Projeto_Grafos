{
 "cells": [
  {
   "cell_type": "markdown",
   "metadata": {},
   "source": [
    "PROJETO DE ALGORITMOS EM GRAFOS (GCC218)- Modelagem Logística com Grafos em Python\n",
    "\n",
    "Alunas: Lana da Silva Miranda, Nina Tobias Novikoff da Cunha Ribeiro"
   ]
  },
  {
   "cell_type": "code",
   "execution_count": 18,
   "metadata": {},
   "outputs": [],
   "source": [
    "import importlib\n",
    "import proj  \n",
    "\n",
    "importlib.reload(proj)  # recarrega o arquivo proj.py\n",
    "from proj import * # Para importar todas as funções"
   ]
  },
  {
   "cell_type": "markdown",
   "metadata": {},
   "source": [
    "Leitura dos dados e inserção no grafo:"
   ]
  },
  {
   "cell_type": "code",
   "execution_count": 19,
   "metadata": {},
   "outputs": [
    {
     "name": "stdout",
     "output_type": "stream",
     "text": [
      "Digite o nome do arquivo:  BHW1.dat\n"
     ]
    },
    {
     "name": "stdout",
     "output_type": "stream",
     "text": [
      "\n",
      "Matriz de adjacência (valores de T. COST):\n",
      "\n",
      "        1   2   3   4   5   6   7   8   9  10  11  12\n",
      "    ------------------------------------------------\n",
      "  1 |   .  13   .  17   .   .  19   .   .  19   .   4\n",
      "  2 |  13   .  18   9   .   .   .   .   2   .   .   .\n",
      "  3 |   .  18   .  20   5   .   .   .   .   .   .   .\n",
      "  4 |  17   9  20   .   .   .   .   .   .   .   .   .\n",
      "  5 |   .   .   5   .   .   7   .   .   .   .  20  11\n",
      "  6 |   .   .   .   .   7   .   4   .   .   .   .   3\n",
      "  7 |  19   .   .   .   .   4   .   8   .   .   .  18\n",
      "  8 |   .   .   .   .   .   .   8   .   .   3  10   .\n",
      "  9 |   .   2   .   .   .   .   .   .   .  16  14   .\n",
      " 10 |  19   .   .   .   .   .   .   3  16   .  12   .\n",
      " 11 |   .   .   .   .  20   .   .  10  14  12   .   .\n",
      " 12 |   4   .   .   .  11   3  18   .   .   .   .   .\n"
     ]
    },
    {
     "name": "stdout",
     "output_type": "stream",
     "text": [
      "\n",
      "Matriz de adjacência (valores de T. COST):\n",
      "\n",
      "        1   2   3   4   5   6   7   8   9  10  11  12\n",
      "    ------------------------------------------------\n",
      "  1 |   .  13   .  17   .   .  19   .   .  19   .   4\n",
      "  2 |  13   .  18   9   .   .   .   .   2   .   .   .\n",
      "  3 |   .  18   .  20   5   .   .   .   .   .   .   .\n",
      "  4 |  17   9  20   .   .   .   .   .   .   .   .   .\n",
      "  5 |   .   .   5   .   .   7   .   .   .   .  20  11\n",
      "  6 |   .   .   .   .   7   .   4   .   .   .   .   3\n",
      "  7 |  19   .   .   .   .   4   .   8   .   .   .  18\n",
      "  8 |   .   .   .   .   .   .   8   .   .   3  10   .\n",
      "  9 |   .   2   .   .   .   .   .   .   .  16  14   .\n",
      " 10 |  19   .   .   .   .   .   .   3  16   .  12   .\n",
      " 11 |   .   .   .   .  20   .   .  10  14  12   .   .\n",
      " 12 |   4   .   .   .  11   3  18   .   .   .   .   .\n"
     ]
    },
    {
     "name": "stdout",
     "output_type": "stream",
     "text": [
      "\n",
      "Matriz de adjacência (valores de T. COST):\n",
      "\n",
      "        1   2   3   4   5   6   7   8   9  10  11  12\n",
      "    ------------------------------------------------\n",
      "  1 |   .  13   .  17   .   .  19   .   .  19   .   4\n",
      "  2 |  13   .  18   9   .   .   .   .   2   .   .   .\n",
      "  3 |   .  18   .  20   5   .   .   .   .   .   .   .\n",
      "  4 |  17   9  20   .   .   .   .   .   .   .   .   .\n",
      "  5 |   .   .   5   .   .   7   .   .   .   .  20  11\n",
      "  6 |   .   .   .   .   7   .   4   .   .   .   .   3\n",
      "  7 |  19   .   .   .   .   4   .   8   .   .   .  18\n",
      "  8 |   .   .   .   .   .   .   8   .   .   3  10   .\n",
      "  9 |   .   2   .   .   .   .   .   .   .  16  14   .\n",
      " 10 |  19   .   .   .   .   .   .   3  16   .  12   .\n",
      " 11 |   .   .   .   .  20   .   .  10  14  12   .   .\n",
      " 12 |   4   .   .   .  11   3  18   .   .   .   .   .\n"
     ]
    }
   ],
   "source": [
    "arq_entrada = input(\"Digite o nome do arquivo: \")\n",
    "cabecalho, grafo = ler_entrada(arq_entrada)\n",
    "imprimir_matriz(grafo)"
   ]
  },
  {
   "cell_type": "markdown",
   "metadata": {},
   "source": [
    "Estatísticas:"
   ]
  },
  {
   "cell_type": "code",
   "execution_count": 20,
   "metadata": {},
   "outputs": [
    {
     "name": "stdout",
     "output_type": "stream",
     "text": [
      "Quantidade de vértices: 12\n",
      "Quantidade de arestas: 11\n",
      "Quantidade de arcos: 22\n",
      "Quantidade de vértices requeridos: 7\n",
      "Quantidade de arestas requeridas: 11\n",
      "Quantidade de arcos requeridos: 11\n",
      "Densidade do grafo: 0.25\n"
     ]
    }
   ],
   "source": [
    "\n",
    "\n",
    "print(\"Quantidade de vértices:\", quant_vertices(cabecalho))\n",
    "print(\"Quantidade de arestas:\", quant_arestas(cabecalho))\n",
    "print(\"Quantidade de arcos:\", quant_arcos(cabecalho))\n",
    "print(\"Quantidade de vértices requeridos:\", quant_vertices_requeridos(cabecalho))\n",
    "print(\"Quantidade de arestas requeridas:\", quant_arestas_requeridas(cabecalho))\n",
    "print(\"Quantidade de arcos requeridos:\", quant_arcos_requeridos(cabecalho))\n",
    "print(\"Densidade do grafo:\", densidade_grafo(cabecalho))"
   ]
  },
  {
   "cell_type": "code",
   "execution_count": null,
   "metadata": {},
   "outputs": [],
   "source": []
  }
 ],
 "metadata": {
  "kernelspec": {
   "display_name": "Python 3 (ipykernel)",
   "language": "python",
   "name": "python3"
  },
  "language_info": {
   "codemirror_mode": {
    "name": "ipython",
    "version": 3
   },
   "file_extension": ".py",
   "mimetype": "text/x-python",
   "name": "python",
   "nbconvert_exporter": "python",
   "pygments_lexer": "ipython3",
   "version": "3.11.1"
  }
 },
 "nbformat": 4,
 "nbformat_minor": 4
}
