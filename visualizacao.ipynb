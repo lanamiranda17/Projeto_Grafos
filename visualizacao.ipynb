{
 "cells": [
  {
   "cell_type": "markdown",
   "metadata": {},
   "source": [
    "PROJETO DE ALGORITMOS EM GRAFOS (GCC218)- Modelagem Logística com Grafos em Python\n",
    "\n",
    "Alunas: Lana da Silva Miranda, Nina Tobias Novikoff da Cunha Ribeiro"
   ]
  },
  {
   "cell_type": "code",
   "execution_count": 8,
   "metadata": {},
   "outputs": [],
   "source": [
    "import importlib\n",
    "import proj  \n",
    "\n",
    "importlib.reload(proj)  # recarrega o arquivo proj.py\n",
    "from proj import * # Para importar todas as funções"
   ]
  },
  {
   "cell_type": "markdown",
   "metadata": {},
   "source": [
    "Leitura dos dados e inserção no grafo:"
   ]
  },
  {
   "cell_type": "code",
   "execution_count": 9,
   "metadata": {},
   "outputs": [
    {
     "name": "stdout",
     "output_type": "stream",
     "text": [
      "Digite o nome do arquivo:  BHW1.dat\n"
     ]
    }
   ],
   "source": [
    "arq_entrada = input(\"Digite o nome do arquivo: \")\n",
    "cabecalho, grafo = ler_entrada(arq_entrada)"
   ]
  },
  {
   "cell_type": "markdown",
   "metadata": {},
   "source": [
    "Estatísticas:"
   ]
  },
  {
   "cell_type": "code",
   "execution_count": 11,
   "metadata": {},
   "outputs": [
    {
     "name": "stdout",
     "output_type": "stream",
     "text": [
      "Quantidade de vértices: 12\n",
      "Quantidade de arestas: 11\n",
      "Quantidade de arcos: 22\n",
      "Quantidade de vértices requeridos: 7\n",
      "Quantidade de arestas requeridas: 11\n",
      "Quantidade de arcos requeridos: 11\n",
      "Densidade do grafo: 0.5\n"
     ]
    }
   ],
   "source": [
    "\n",
    "\n",
    "print(\"Quantidade de vértices:\", quant_vertices(cabecalho))\n",
    "print(\"Quantidade de arestas:\", quant_arestas(cabecalho))\n",
    "print(\"Quantidade de arcos:\", quant_arcos(cabecalho))\n",
    "print(\"Quantidade de vértices requeridos:\", quant_vertices_requeridos(cabecalho))\n",
    "print(\"Quantidade de arestas requeridas:\", quant_arestas_requeridas(cabecalho))\n",
    "print(\"Quantidade de arcos requeridos:\", quant_arcos_requeridos(cabecalho))\n",
    "print(\"Densidade do grafo:\", densidade_grafo(cabecalho))"
   ]
  },
  {
   "cell_type": "code",
   "execution_count": 12,
   "metadata": {},
   "outputs": [
    {
     "name": "stdout",
     "output_type": "stream",
     "text": [
      "Grau total mínimo: 4\n",
      "Grau de entrada mínimo: 1\n",
      "Grau de saída mínimo: 1\n",
      "\n",
      "Grau total máximo: 10\n",
      "Grau de entrada máximo: 5\n",
      "Grau de saída máximo: 5\n"
     ]
    }
   ],
   "source": [
    "grau_total, grau_entrada, grau_saida = graus_nohs (grafo, cabecalho)\n",
    "min_total, min_entrada, min_saida = grau_minimo(grau_total, grau_entrada, grau_saida)\n",
    "\n",
    "print(\"Grau total mínimo:\", min_total)\n",
    "print(\"Grau de entrada mínimo:\", min_entrada)\n",
    "print(\"Grau de saída mínimo:\", min_saida)\n",
    "\n",
    "max_total, max_entrada, max_saida = grau_maximo(grau_total, grau_entrada, grau_saida)\n",
    "\n",
    "print(\"\\nGrau total máximo:\", max_total)\n",
    "print(\"Grau de entrada máximo:\", max_entrada)\n",
    "print(\"Grau de saída máximo:\", max_saida)\n",
    "\n"
   ]
  },
  {
   "cell_type": "code",
   "execution_count": 13,
   "metadata": {},
   "outputs": [
    {
     "name": "stdout",
     "output_type": "stream",
     "text": [
      "Matriz de distâncias:\n",
      "INF   INF   INF   INF   INF   INF   INF   INF   INF   INF   INF   INF   INF   \n",
      "INF   0     13    19    17    14    7     11    19    15    19    29    4     \n",
      "INF   13    0     18    9     23    20    24    21    2     18    16    17    \n",
      "INF   19    18    0     20    5     12    16    24    20    27    25    15    \n",
      "INF   17    9     20    0     25    24    28    30    11    27    25    21    \n",
      "INF   14    23    5     25    0     7     11    19    25    22    20    10    \n",
      "INF   7     20    12    24    7     0     4     12    22    15    22    3     \n",
      "INF   11    24    16    28    11    4     0     8     26    11    18    7     \n",
      "INF   19    21    24    30    19    12    8     0     19    3     10    15    \n",
      "INF   15    2     20    11    25    22    26    19    0     16    14    19    \n",
      "INF   19    18    27    27    22    15    11    3     16    0     12    18    \n",
      "INF   29    16    25    25    20    22    18    10    14    12    0     25    \n",
      "INF   4     17    15    21    10    3     7     15    19    18    25    0     \n",
      "\n",
      "Matriz de predecessores:\n",
      "None  None  None  None  None  None  None  None  None  None  None  None  None  \n",
      "None  1     1     5     1     6     12    6     7     2     1     9     1     \n",
      "None  2     2     2     2     3     12    6     10    2     9     9     1     \n",
      "None  12    3     3     3     3     5     6     7     2     8     5     6     \n",
      "None  4     4     4     4     3     12    6     10    2     9     9     1     \n",
      "None  12    3     5     3     5     5     6     7     2     8     5     6     \n",
      "None  12    1     5     1     6     6     6     7     2     8     8     6     \n",
      "None  12    1     5     1     6     7     7     7     2     8     8     6     \n",
      "None  12    9     5     2     6     7     8     8     10    8     8     6     \n",
      "None  2     9     2     2     3     12    6     10    9     9     9     1     \n",
      "None  10    9     5     2     6     7     8     10    10    10    10    6     \n",
      "None  2     9     5     2     11    7     8     11    11    11    11    6     \n",
      "None  12    1     5     1     6     12    6     7     2     8     8     12    \n"
     ]
    }
   ],
   "source": [
    "_, grafo = ler_entrada (arq_entrada)\n",
    "distancias, predecessores = floyd_warshall(grafo, cabecalho)\n",
    "\n",
    "print(\"Matriz de distâncias:\")\n",
    "imprimir_matriz(distancias, usar_inf=True)\n",
    "\n",
    "print(\"\\nMatriz de predecessores:\")\n",
    "imprimir_matriz(predecessores)\n"
   ]
  },
  {
   "cell_type": "code",
   "execution_count": 9,
   "metadata": {},
   "outputs": [
    {
     "name": "stdout",
     "output_type": "stream",
     "text": [
      "Vértice 1: 18\n",
      "Vértice 2: 22\n",
      "Vértice 3: 6\n",
      "Vértice 4: 0\n",
      "Vértice 5: 14\n",
      "Vértice 6: 38\n",
      "Vértice 7: 22\n",
      "Vértice 8: 16\n",
      "Vértice 9: 14\n",
      "Vértice 10: 6\n",
      "Vértice 11: 0\n",
      "Vértice 12: 22\n"
     ]
    }
   ],
   "source": [
    "intermediacao = calculo_intermediacao (grafo, cabecalho)\n",
    "n = quant_vertices(cabecalho)\n",
    "\n",
    "for i in range(1, len(intermediacao)):\n",
    "    print(f\"Vértice {i}: {intermediacao[i]}\")"
   ]
  },
  {
   "cell_type": "code",
   "execution_count": 10,
   "metadata": {},
   "outputs": [
    {
     "name": "stdout",
     "output_type": "stream",
     "text": [
      "Caminho médio: 16.71\n",
      "Diâmetro do grafo: 30\n"
     ]
    }
   ],
   "source": [
    "media = caminho_medio(grafo, cabecalho)\n",
    "print(f\"Caminho médio: {media:.2f}\")\n",
    "\n",
    "diametro = diametro_grafo(grafo, cabecalho)\n",
    "print(f\"Diâmetro do grafo: {diametro}\")\n",
    "\n"
   ]
  },
  {
   "cell_type": "code",
   "execution_count": null,
   "metadata": {},
   "outputs": [],
   "source": []
  }
 ],
 "metadata": {
  "kernelspec": {
   "display_name": "Python 3 (ipykernel)",
   "language": "python",
   "name": "python3"
  },
  "language_info": {
   "codemirror_mode": {
    "name": "ipython",
    "version": 3
   },
   "file_extension": ".py",
   "mimetype": "text/x-python",
   "name": "python",
   "nbconvert_exporter": "python",
   "pygments_lexer": "ipython3",
   "version": "3.11.1"
  }
 },
 "nbformat": 4,
 "nbformat_minor": 4
}
