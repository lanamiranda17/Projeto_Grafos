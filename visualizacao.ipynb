{
 "cells": [
  {
   "cell_type": "markdown",
   "metadata": {},
   "source": [
    "PROJETO DE ALGORITMOS EM GRAFOS (GCC218)- Modelagem Logística com Grafos em Python\n",
    "\n",
    "Alunas: Lana da Silva Miranda, Nina Tobias Novikoff da Cunha Ribeiro"
   ]
  },
  {
   "cell_type": "markdown",
   "metadata": {},
   "source": [
    "Leitura dos dados e inserção no grafo:"
   ]
  },
  {
   "cell_type": "code",
   "execution_count": 1,
   "metadata": {},
   "outputs": [
    {
     "name": "stdout",
     "output_type": "stream",
     "text": [
      "Digite o nome do arquivo:  BHW1.dat\n"
     ]
    },
    {
     "name": "stdout",
     "output_type": "stream",
     "text": [
      "\n",
      "Matriz de adjacência (valores de T. COST):\n",
      "\n",
      "        1   2   3   4   5   6   7   8   9  10  11  12\n",
      "    ------------------------------------------------\n",
      "  1 |   .  13   .  17   .   .  19   .   .  19   .   4\n",
      "  2 |  13   .  18   9   .   .   .   .   2   .   .   .\n",
      "  3 |   .  18   .  20   5   .   .   .   .   .   .   .\n",
      "  4 |  17   9  20   .   .   .   .   .   .   .   .   .\n",
      "  5 |   .   .   5   .   .   7   .   .   .   .  20  11\n",
      "  6 |   .   .   .   .   7   .   4   .   .   .   .   3\n",
      "  7 |  19   .   .   .   .   4   .   8   .   .   .  18\n",
      "  8 |   .   .   .   .   .   .   8   .   .   3  10   .\n",
      "  9 |   .   2   .   .   .   .   .   .   .  16  14   .\n",
      " 10 |  19   .   .   .   .   .   .   3  16   .  12   .\n",
      " 11 |   .   .   .   .  20   .   .  10  14  12   .   .\n",
      " 12 |   4   .   .   .  11   3  18   .   .   .   .   .\n"
     ]
    }
   ],
   "source": [
    "from proj import ler_entrada, imprimir_matriz\n",
    "\n",
    "arq_entrada = input(\"Digite o nome do arquivo: \")\n",
    "cabecalho, grafo = ler_entrada(arq_entrada)\n",
    "imprimir_matriz(grafo)"
   ]
  }
 ],
 "metadata": {
  "kernelspec": {
   "display_name": "Python 3 (ipykernel)",
   "language": "python",
   "name": "python3"
  },
  "language_info": {
   "codemirror_mode": {
    "name": "ipython",
    "version": 3
   },
   "file_extension": ".py",
   "mimetype": "text/x-python",
   "name": "python",
   "nbconvert_exporter": "python",
   "pygments_lexer": "ipython3",
   "version": "3.11.1"
  }
 },
 "nbformat": 4,
 "nbformat_minor": 4
}
