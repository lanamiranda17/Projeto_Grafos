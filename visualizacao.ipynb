{
 "cells": [
  {
   "cell_type": "markdown",
   "metadata": {},
   "source": [
    "PROJETO DE ALGORITMOS EM GRAFOS (GCC218)- Modelagem Logística com Grafos em Python\n",
    "\n",
    "Alunas: Lana da Silva Miranda, Nina Tobias Novikoff da Cunha Ribeiro"
   ]
  },
  {
   "cell_type": "markdown",
   "metadata": {},
   "source": [
    "Importando funções do código principal:"
   ]
  },
  {
   "cell_type": "code",
   "execution_count": 29,
   "metadata": {},
   "outputs": [],
   "source": [
    "import importlib\n",
    "import proj\n",
    "import time \n",
    "\n",
    "CPU_GHZ = 3.0\n",
    "\n",
    "inicio = time.perf_counter()\n",
    "\n",
    "importlib.reload(proj)  # recarrega o arquivo proj.py\n",
    "from proj import * # Para importar todas as funções"
   ]
  },
  {
   "cell_type": "markdown",
   "metadata": {},
   "source": [
    "Leitura dos dados e inserção no grafo:"
   ]
  },
  {
   "cell_type": "code",
   "execution_count": 30,
   "metadata": {},
   "outputs": [],
   "source": [
    "#arq_entrada = input(\"Digite o nome do arquivo: \")\n",
    "#cabecalho, grafo = ler_entrada(arq_entrada)"
   ]
  },
  {
   "cell_type": "markdown",
   "metadata": {},
   "source": [
    "Estatísticas:"
   ]
  },
  {
   "cell_type": "code",
   "execution_count": 31,
   "metadata": {},
   "outputs": [],
   "source": [
    "#exportar_csv(cabecalho, grafo)\n",
    "\n",
    "#from IPython.display import display\n",
    "\n",
    "#styled_df_estatisticas = visualizar_estatisticas()\n",
    "#display(styled_df_estatisticas)"
   ]
  },
  {
   "cell_type": "markdown",
   "metadata": {},
   "source": [
    "Intermediação:"
   ]
  },
  {
   "cell_type": "code",
   "execution_count": 32,
   "metadata": {},
   "outputs": [],
   "source": [
    "#intermediacao = calculo_intermediacao (grafo, cabecalho)\n",
    "\n",
    "#for i in range(1, len(intermediacao)):\n",
    "    #print(f\"Vértice {i}: {intermediacao[i]}\")"
   ]
  },
  {
   "cell_type": "markdown",
   "metadata": {},
   "source": [
    "(OPCIONAL) Impressão das matrizes de caminho mais curto (distâncias) e de predecessores"
   ]
  },
  {
   "cell_type": "code",
   "execution_count": 33,
   "metadata": {},
   "outputs": [],
   "source": [
    "#_, grafo = ler_entrada (arq_entrada)\n",
    "#distancias, predecessores = floyd_warshall(grafo, cabecalho)\n",
    "\n",
    "#print(\"Matriz de distâncias:\")\n",
    "#imprimir_matriz(distancias, usar_inf=True)\n",
    "\n",
    "#print(\"\\nMatriz de predecessores:\")\n",
    "#imprimir_matriz(predecessores)\n"
   ]
  },
  {
   "cell_type": "code",
   "execution_count": null,
   "metadata": {},
   "outputs": [
    {
     "ename": "NameError",
     "evalue": "name 'rotas' is not defined",
     "output_type": "error",
     "traceback": [
      "\u001b[31m---------------------------------------------------------------------------\u001b[39m",
      "\u001b[31mNameError\u001b[39m                                 Traceback (most recent call last)",
      "\u001b[36mCell\u001b[39m\u001b[36m \u001b[39m\u001b[32mIn[34]\u001b[39m\u001b[32m, line 18\u001b[39m\n\u001b[32m      1\u001b[39m \u001b[33;03m'''servicos = extrair_obrigatorios(grafo, cabecalho)\u001b[39;00m\n\u001b[32m      2\u001b[39m \n\u001b[32m      3\u001b[39m \u001b[33;03mmatriz_custos = matriz_obrigatorios(servicos, distancias)\u001b[39;00m\n\u001b[32m   (...)\u001b[39m\u001b[32m     15\u001b[39m \n\u001b[32m     16\u001b[39m \u001b[33;03mimprimir_rotas(rotas, servicos, custo, matriz_custos)'''\u001b[39;00m\n\u001b[32m---> \u001b[39m\u001b[32m18\u001b[39m verificar_factibilidade(\u001b[43mrotas\u001b[49m, servicos, capacidade)\n",
      "\u001b[31mNameError\u001b[39m: name 'rotas' is not defined"
     ]
    }
   ],
   "source": [
    "'''servicos = extrair_obrigatorios(grafo, cabecalho)\n",
    "\n",
    "matriz_custos = matriz_obrigatorios(servicos, distancias)\n",
    "\n",
    "fim = time.perf_counter()\n",
    "tempo_segundos = fim - inicio\n",
    "clocks = tempo_segundos * CPU_GHZ * 1_000_000_000\n",
    "\n",
    "print(int(clocks))\n",
    "print(int(clocks))  \n",
    "\n",
    "capacidade = capacidade_veiculo(cabecalho)\n",
    "rotas = clarke_wright(servicos, matriz_custos, capacidade)\n",
    "custo = custo_total(rotas, matriz_custos)\n",
    "\n",
    "imprimir_rotas(rotas, servicos, custo, matriz_custos)'''\n",
    "\n",
    "#verificar_factibilidade(rotas, servicos, capacidade)\n",
    "\n"
   ]
  },
  {
   "cell_type": "code",
   "execution_count": null,
   "metadata": {},
   "outputs": [],
   "source": [
    "import os\n",
    "import traceback\n",
    "\n",
    "pasta_entrada = \"instancias\"\n",
    "pasta_saida = \"solucoes\"\n",
    "os.makedirs(pasta_saida, exist_ok=True)\n",
    "\n",
    "arquivos = [f for f in os.listdir(pasta_entrada) if f.endswith(\".dat\")]\n",
    "\n",
    "for arq in arquivos:\n",
    "    try:\n",
    "        print(f\"🟡 Processando {arq}...\")\n",
    "        caminho = os.path.join(pasta_entrada, arq)\n",
    "        processar_instancia(caminho, pasta_saida)\n",
    "        print(f\"✅ {arq} processado com sucesso.\\n\")\n",
    "    except Exception as e:\n",
    "        print(f\"❌ ERRO ao processar {arq}: {e}\")\n",
    "        traceback.print_exc()\n",
    "        print(\"\\n---\\n\")\n"
   ]
  }
 ],
 "metadata": {
  "kernelspec": {
   "display_name": "Python 3",
   "language": "python",
   "name": "python3"
  },
  "language_info": {
   "codemirror_mode": {
    "name": "ipython",
    "version": 3
   },
   "file_extension": ".py",
   "mimetype": "text/x-python",
   "name": "python",
   "nbconvert_exporter": "python",
   "pygments_lexer": "ipython3",
   "version": "3.13.2"
  }
 },
 "nbformat": 4,
 "nbformat_minor": 4
}
