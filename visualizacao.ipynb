{
 "cells": [
  {
   "cell_type": "markdown",
   "metadata": {},
   "source": [
    "PROJETO DE ALGORITMOS EM GRAFOS (GCC218)- Modelagem Logística com Grafos em Python\n",
    "\n",
    "Alunas: Lana da Silva Miranda, Nina Tobias Novikoff da Cunha Ribeiro"
   ]
  },
  {
   "cell_type": "markdown",
   "metadata": {},
   "source": [
    "Importando funções do código principal:"
   ]
  },
  {
   "cell_type": "code",
   "execution_count": 1,
   "metadata": {},
   "outputs": [],
   "source": [
    "import importlib\n",
    "import proj  \n",
    "\n",
    "importlib.reload(proj)  # recarrega o arquivo proj.py\n",
    "from proj import * # Para importar todas as funções"
   ]
  },
  {
   "cell_type": "markdown",
   "metadata": {},
   "source": [
    "Leitura dos dados e inserção no grafo:"
   ]
  },
  {
   "cell_type": "code",
   "execution_count": 2,
   "metadata": {},
   "outputs": [
    {
     "name": "stdout",
     "output_type": "stream",
     "text": [
      "Digite o nome do arquivo:  Instâncias/mgval_0.50_8B.dat\n"
     ]
    }
   ],
   "source": [
    "arq_entrada = input(\"Digite o nome do arquivo: \")\n",
    "cabecalho, grafo = ler_entrada(arq_entrada)"
   ]
  },
  {
   "cell_type": "markdown",
   "metadata": {},
   "source": [
    "Estatísticas:"
   ]
  },
  {
   "cell_type": "code",
   "execution_count": null,
   "metadata": {},
   "outputs": [
    {
     "name": "stdout",
     "output_type": "stream",
     "text": [
      "Quantidade de vértices: 30\n",
      "Quantidade de arestas: 27\n",
      "Quantidade de arcos: 64\n",
      "Quantidade de vértices requeridos: 23\n",
      "Quantidade de arestas requeridas: 13\n",
      "Quantidade de arcos requeridos: 32\n",
      "Densidade do grafo: 0.20919540229885059\n"
     ]
    }
   ],
   "source": [
    "exportar_csv(cabecalho, grafo)\n",
    "\n",
    "from IPython.display import display\n",
    "\n",
    "styled_df_estatisticas = visualizar_estatisticas()\n",
    "display(styled_df_estatisticas)"
   ]
  },
  {
   "cell_type": "markdown",
   "metadata": {},
   "source": [
    "Intermediação:"
   ]
  },
  {
   "cell_type": "code",
   "execution_count": 5,
   "metadata": {},
   "outputs": [
    {
     "name": "stdout",
     "output_type": "stream",
     "text": [
      "Vértice 1: 55\n",
      "Vértice 2: 66\n",
      "Vértice 3: 0\n",
      "Vértice 4: 35\n",
      "Vértice 5: 20\n",
      "Vértice 6: 23\n",
      "Vértice 7: 82\n",
      "Vértice 8: 118\n",
      "Vértice 9: 125\n",
      "Vértice 10: 29\n",
      "Vértice 11: 32\n",
      "Vértice 12: 63\n",
      "Vértice 13: 109\n",
      "Vértice 14: 23\n",
      "Vértice 15: 175\n",
      "Vértice 16: 170\n",
      "Vértice 17: 143\n",
      "Vértice 18: 229\n",
      "Vértice 19: 0\n",
      "Vértice 20: 118\n",
      "Vértice 21: 39\n",
      "Vértice 22: 87\n",
      "Vértice 23: 92\n",
      "Vértice 24: 51\n",
      "Vértice 25: 106\n",
      "Vértice 26: 0\n",
      "Vértice 27: 0\n",
      "Vértice 28: 31\n",
      "Vértice 29: 51\n",
      "Vértice 30: 108\n"
     ]
    }
   ],
   "source": [
    "intermediacao = calculo_intermediacao (grafo, cabecalho)\n",
    "n = quant_vertices(cabecalho)\n",
    "\n",
    "for i in range(1, len(intermediacao)):\n",
    "    print(f\"Vértice {i}: {intermediacao[i]}\")"
   ]
  },
  {
   "cell_type": "markdown",
   "metadata": {},
   "source": [
    "(OPCIONAL) Impressão das matrizes de caminho mais curto (distâncias) e de predecessores"
   ]
  },
  {
   "cell_type": "code",
   "execution_count": 7,
   "metadata": {},
   "outputs": [
    {
     "name": "stdout",
     "output_type": "stream",
     "text": [
      "Matriz de distâncias:\n",
      "INF   INF   INF   INF   INF   INF   INF   INF   INF   INF   INF   INF   INF   INF   INF   INF   INF   INF   INF   INF   INF   INF   INF   INF   INF   INF   INF   INF   INF   INF   INF   \n",
      "INF   0     4     7     8     3     11    9     7     9     12    18    16    13    14    12    21    18    15    17    24    28    23    18    26    22    24    29    28    25    21    \n",
      "INF   4     0     3     12    7     15    13    11    5     8     22    20    17    17    8     25    16    11    13    28    25    20    14    30    18    20    33    28    21    17    \n",
      "INF   18    14    0     25    21    27    24    16    9     6     30    25    22    20    11    28    19    14    16    31    28    23    17    33    21    23    36    31    24    20    \n",
      "INF   8     12    15    0     5     3     1     9     16    19    10    9     12    16    19    15    19    22    24    18    22    24    25    20    29    31    23    22    28    28    \n",
      "INF   3     7     10    5     0     8     6     8     12    15    15    14    14    15    15    20    19    18    20    23    27    24    21    25    25    27    28    27    28    24    \n",
      "INF   12    16    19    4     9     0     3     11    18    21    7     11    14    18    21    12    21    24    26    15    19    24    27    17    29    33    20    19    26    30    \n",
      "INF   9     13    16    1     6     3     0     8     15    18    10    8     11    15    18    14    18    21    23    17    21    23    24    19    28    30    22    21    27    27    \n",
      "INF   7     11    14    9     8     11    8     0     7     10    14    9     6     7     10    14    11    13    15    17    21    16    16    19    20    22    22    21    20    19    \n",
      "INF   9     5     8     16    12    18    15    7     0     3     21    16    13    12    3     20    11    6     8     23    20    15    9     25    13    15    28    23    16    12    \n",
      "INF   12    8     6     19    15    21    18    10    3     0     24    19    16    14    5     22    13    8     10    25    22    17    11    27    15    17    30    25    18    14    \n",
      "INF   19    23    26    11    16    7     10    14    21    24    0     5     8     13    22    5     14    19    21    8     12    17    22    10    22    26    13    12    19    23    \n",
      "INF   16    20    23    9     14    11    8     9     16    19    5     0     3     8     17    6     10    15    17    9     13    15    18    11    22    24    14    13    19    21    \n",
      "INF   13    17    20    12    14    14    11    6     13    16    8     3     0     5     14    8     7     12    14    11    15    12    15    13    19    21    16    15    16    18    \n",
      "INF   14    17    20    16    15    18    15    7     12    14    13    8     5     0     9     13    4     9     11    16    14    9     12    18    16    18    21    19    13    15    \n",
      "INF   12    8     11    19    15    21    18    10    3     5     22    17    14    9     0     17    8     3     5     20    17    12    6     22    10    12    25    20    13    9     \n",
      "INF   21    25    28    15    20    12    14    14    20    22    5     6     8     13    17    0     9     14    16    3     7     12    17    5     17    21    8     7     14    18    \n",
      "INF   18    16    19    19    19    21    18    11    11    13    14    10    7     4     8     9     0     5     7     12    10    5     8     14    12    14    17    15    9     11    \n",
      "INF   15    11    14    22    18    24    21    13    6     8     19    15    12    9     3     14    5     0     2     17    14    9     3     19    7     9     22    17    10    6     \n",
      "INF   17    13    16    24    20    26    23    15    8     10    21    17    14    11    5     16    7     2     0     19    16    11    5     21    9     11    24    19    12    8     \n",
      "INF   24    28    31    18    23    15    17    17    23    25    8     9     11    16    20    3     12    17    19    0     7     12    18    2     14    18    5     4     11    15    \n",
      "INF   28    26    29    22    27    19    21    21    21    23    12    13    15    14    18    7     10    15    17    7     0     5     15    5     11    15    12    5     8     12    \n",
      "INF   23    21    24    24    24    24    23    16    16    18    17    15    12    9     13    12    5     10    12    12    5     0     10    10    7     11    17    10    4     8     \n",
      "INF   18    14    17    25    21    27    24    16    9     11    22    18    15    12    6     17    8     3     5     18    11    6     0     16    4     6     23    14    7     3     \n",
      "INF   26    30    33    20    25    17    19    19    25    27    10    11    13    18    22    5     14    19    21    2     5     10    16    0     12    16    7     2     9     13    \n",
      "INF   22    18    21    26    25    26    25    18    13    15    19    17    14    11    10    14    7     7     9     14    7     2     4     12    0     4     19    10    3     1     \n",
      "INF   24    20    23    30    27    30    29    22    15    17    23    21    18    15    12    18    11    9     11    18    11    6     6     16    4     0     23    14    7     3     \n",
      "INF   29    33    36    23    28    20    22    22    28    30    13    14    16    21    25    8     17    22    24    5     10    15    21    5     17    21    0     7     14    18    \n",
      "INF   28    28    31    22    27    19    21    21    23    25    12    13    15    19    20    7     15    17    19    4     5     10    14    2     10    14    9     0     7     11    \n",
      "INF   25    21    24    28    28    26    27    20    16    18    19    19    16    13    13    14    9     10    12    11    8     4     7     9     3     7     16    7     0     4     \n",
      "INF   21    17    20    27    24    27    26    19    12    14    20    18    15    12    9     15    8     6     8     15    8     3     3     13    1     3     20    11    4     0     \n",
      "\n",
      "Matriz de predecessores:\n",
      "None  None  None  None  None  None  None  None  None  None  None  None  None  None  None  None  None  None  None  None  None  None  None  None  None  None  None  None  None  None  None  \n",
      "None  1     1     2     5     1     4     4     1     2     9     6     13    8     8     9     13    14    15    18    16    16    17    18    20    30    18    20    24    25    23    \n",
      "None  2     2     2     5     1     4     4     1     2     9     6     13    8     15    9     13    18    15    18    16    22    25    18    20    30    18    20    29    25    23    \n",
      "None  2     9     3     7     1     7     8     9     10    3     12    13    8     15    10    17    18    15    10    16    22    25    18    20    30    18    20    29    25    23    \n",
      "None  5     1     2     4     4     4     4     7     8     9     6     7     12    8     9     11    13    15    18    16    16    17    18    20    30    18    20    24    22    23    \n",
      "None  5     1     2     5     5     4     4     5     2     9     6     7     8     8     9     11    14    15    18    16    16    17    18    20    30    18    20    24    22    23    \n",
      "None  5     1     2     7     4     6     6     7     8     9     6     7     12    8     9     11    13    15    18    16    16    21    18    20    29    18    20    24    28    23    \n",
      "None  5     1     2     7     4     7     7     7     8     9     6     7     12    8     9     12    13    15    18    16    16    17    18    20    30    18    20    24    22    23    \n",
      "None  8     1     2     7     8     7     8     8     8     9     12    13    8     8     9     13    14    15    18    16    16    17    18    20    30    18    20    24    22    23    \n",
      "None  2     9     2     7     1     7     8     9     9     9     12    13    8     15    9     17    18    15    18    16    22    25    18    20    30    18    20    29    25    23    \n",
      "None  2     9     10    7     1     7     8     9     10    10    12    13    8     15    10    17    18    15    10    16    22    25    18    20    30    18    20    29    25    23    \n",
      "None  5     1     2     7     4     11    6     13    8     9     11    11    12    13    14    11    16    17    18    16    16    21    18    20    29    30    20    24    28    25    \n",
      "None  8     1     2     7     4     7     12    13    8     9     12    12    12    13    14    12    13    17    18    16    16    17    18    20    29    18    20    24    22    23    \n",
      "None  8     1     2     7     8     7     12    13    8     9     12    13    13    13    14    13    13    17    18    16    16    17    18    20    29    18    20    24    22    23    \n",
      "None  8     9     2     7     8     7     8     14    15    15    12    13    14    14    14    13    14    17    18    16    22    17    18    20    29    18    20    21    22    23    \n",
      "None  2     9     2     7     1     7     8     15    15    15    12    13    14    15    15    17    18    15    18    16    22    25    18    20    30    18    20    29    25    23    \n",
      "None  8     1     2     7     4     11    12    13    15    15    16    16    16    13    18    16    16    17    18    16    16    21    18    20    29    30    20    24    28    25    \n",
      "None  8     9     2     7     8     7     12    14    15    15    16    13    17    17    18    17    17    17    18    16    22    17    18    20    29    18    20    21    22    23    \n",
      "None  2     9     2     7     1     7     8     15    15    15    16    13    17    17    18    17    18    18    18    16    22    25    18    20    30    18    20    29    25    23    \n",
      "None  2     9     10    7     1     7     8     15    15    19    16    13    17    17    18    17    18    19    19    16    22    25    18    20    30    18    20    29    25    23    \n",
      "None  8     1     2     7     4     11    12    13    15    15    16    16    16    13    18    20    16    17    18    20    20    21    30    20    29    30    20    24    28    25    \n",
      "None  8     9     2     7     4     11    12    13    15    15    16    16    16    17    18    21    22    17    18    21    21    21    22    21    29    30    20    21    21    25    \n",
      "None  8     9     2     7     8     11    12    14    15    15    16    13    17    17    18    21    22    17    18    21    22    22    22    21    29    30    20    21    22    25    \n",
      "None  2     9     2     7     1     7     8     15    15    15    16    13    17    17    18    17    18    23    18    21    22    25    23    21    30    30    20    29    25    23    \n",
      "None  8     1     2     7     4     11    12    13    15    15    16    16    16    13    18    20    16    17    18    24    24    21    30    24    29    30    20    24    28    25    \n",
      "None  2     9     2     7     1     11    12    14    15    15    16    13    17    17    18    21    22    23    18    21    22    25    30    21    25    30    20    29    25    25    \n",
      "None  2     9     2     7     1     11    12    15    15    15    16    13    17    17    18    21    22    26    18    21    22    25    30    21    30    26    20    29    25    26    \n",
      "None  8     1     2     7     4     11    12    13    15    15    16    16    16    13    18    20    16    17    18    27    24    21    30    27    29    30    27    24    28    25    \n",
      "None  8     9     2     7     4     11    12    13    15    15    16    16    16    17    18    20    22    23    18    24    28    21    30    28    29    30    20    28    28    25    \n",
      "None  2     9     2     7     8     11    12    14    15    15    16    13    17    17    18    20    22    23    18    24    29    29    30    28    29    30    20    29    29    25    \n",
      "None  2     9     2     7     1     11    12    15    15    15    16    13    17    17    18    21    22    23    18    21    22    25    30    21    30    30    20    29    25    30    \n"
     ]
    }
   ],
   "source": [
    "_, grafo = ler_entrada (arq_entrada)\n",
    "distancias, predecessores = floyd_warshall(grafo, cabecalho)\n",
    "\n",
    "print(\"Matriz de distâncias:\")\n",
    "imprimir_matriz(distancias, usar_inf=True)\n",
    "\n",
    "print(\"\\nMatriz de predecessores:\")\n",
    "imprimir_matriz(predecessores)\n"
   ]
  },
  {
   "cell_type": "code",
   "execution_count": null,
   "metadata": {},
   "outputs": [],
   "source": []
  }
 ],
 "metadata": {
  "kernelspec": {
   "display_name": ".venv",
   "language": "python",
   "name": "python3"
  },
  "language_info": {
   "codemirror_mode": {
    "name": "ipython",
    "version": 3
   },
   "file_extension": ".py",
   "mimetype": "text/x-python",
   "name": "python",
   "nbconvert_exporter": "python",
   "pygments_lexer": "ipython3",
   "version": "3.11.1"
  }
 },
 "nbformat": 4,
 "nbformat_minor": 4
}
