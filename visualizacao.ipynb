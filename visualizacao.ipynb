{
 "cells": [
  {
   "cell_type": "markdown",
   "metadata": {},
   "source": [
    "PROJETO DE ALGORITMOS EM GRAFOS (GCC218)- Modelagem Logística com Grafos em Python\n",
    "\n",
    "Alunas: Lana da Silva Miranda, Nina Tobias Novikoff da Cunha Ribeiro"
   ]
  },
  {
   "cell_type": "code",
   "execution_count": 1,
   "metadata": {},
   "outputs": [],
   "source": [
    "import importlib\n",
    "import proj  \n",
    "\n",
    "importlib.reload(proj)  # recarrega o arquivo proj.py\n",
    "from proj import * # Para importar todas as funções"
   ]
  },
  {
   "cell_type": "markdown",
   "metadata": {},
   "source": [
    "Leitura dos dados e inserção no grafo:"
   ]
  },
  {
   "cell_type": "code",
   "execution_count": 2,
   "metadata": {},
   "outputs": [
    {
     "name": "stdout",
     "output_type": "stream",
     "text": [
      "Digite o nome do arquivo:  BHW1.dat\n"
     ]
    },
    {
     "name": "stdout",
     "output_type": "stream",
     "text": [
      "\n",
      "Matriz de adjacência (valores de T. COST):\n",
      "\n",
      "        1   2   3   4   5   6   7   8   9  10  11  12\n",
      "    ------------------------------------------------\n",
      "  1 |   .   .   .   .   .   .   .   .   .   .   .   .\n",
      "  2 |   .   .   .   .   .   .   .   .   .   .   .   .\n",
      "  3 |   .   .   .   .   .   .   .   .   .   .   .   .\n",
      "  4 |   .   .   .   .   .   .   .   .   .   .   .   .\n",
      "  5 |   .   .   .   .   .   .   .   .   .   .   .   .\n",
      "  6 |   .   .   .   .   .   .   .   .   .   .   .   .\n",
      "  7 |   .   .   .   .   .   .   .   .   .   .   .   .\n",
      "  8 |   .   .   .   .   .   .   .   .   .   .   .   .\n",
      "  9 |   .   .   .   .   .   .   .   .   .   .   .   .\n",
      " 10 |   .   .   .   .   .   .   .   .   .   .   .   .\n",
      " 11 |   .   .   .   .   .   .   .   .   .   .   .   .\n",
      " 12 |   .   .   .   .   .   .   .   .   .   .   .   .\n"
     ]
    }
   ],
   "source": [
    "arq_entrada = input(\"Digite o nome do arquivo: \")\n",
    "cabecalho, grafo = ler_entrada(arq_entrada)"
   ]
  },
  {
   "cell_type": "markdown",
   "metadata": {},
   "source": [
    "Estatísticas:"
   ]
  },
  {
   "cell_type": "code",
   "execution_count": 3,
   "metadata": {},
   "outputs": [
    {
     "name": "stdout",
     "output_type": "stream",
     "text": [
      "Quantidade de vértices: 12\n",
      "Quantidade de arestas: 11\n",
      "Quantidade de arcos: 22\n",
      "Quantidade de vértices requeridos: 7\n",
      "Quantidade de arestas requeridas: 11\n",
      "Quantidade de arcos requeridos: 11\n",
      "Densidade do grafo: 0.25\n"
     ]
    }
   ],
   "source": [
    "\n",
    "\n",
    "print(\"Quantidade de vértices:\", quant_vertices(cabecalho))\n",
    "print(\"Quantidade de arestas:\", quant_arestas(cabecalho))\n",
    "print(\"Quantidade de arcos:\", quant_arcos(cabecalho))\n",
    "print(\"Quantidade de vértices requeridos:\", quant_vertices_requeridos(cabecalho))\n",
    "print(\"Quantidade de arestas requeridas:\", quant_arestas_requeridas(cabecalho))\n",
    "print(\"Quantidade de arcos requeridos:\", quant_arcos_requeridos(cabecalho))\n",
    "print(\"Densidade do grafo:\", densidade_grafo(cabecalho))"
   ]
  },
  {
   "cell_type": "code",
   "execution_count": 6,
   "metadata": {},
   "outputs": [
    {
     "name": "stdout",
     "output_type": "stream",
     "text": [
      "Grau total mínimo: 4\n",
      "Grau de entrada mínimo: 1\n",
      "Grau de saída mínimo: 1\n",
      "\n",
      "Grau total máximo: 10\n",
      "Grau de entrada máximo: 5\n",
      "Grau de saída máximo: 5\n"
     ]
    }
   ],
   "source": [
    "grau_total, grau_entrada, grau_saida = graus_nohs (grafo, cabecalho)\n",
    "min_total, min_entrada, min_saida = grau_minimo(grau_total, grau_entrada, grau_saida)\n",
    "\n",
    "print(\"Grau total mínimo:\", min_total)\n",
    "print(\"Grau de entrada mínimo:\", min_entrada)\n",
    "print(\"Grau de saída mínimo:\", min_saida)\n",
    "\n",
    "max_total, max_entrada, max_saida = grau_maximo(grau_total, grau_entrada, grau_saida)\n",
    "\n",
    "print(\"\\nGrau total máximo:\", max_total)\n",
    "print(\"Grau de entrada máximo:\", max_entrada)\n",
    "print(\"Grau de saída máximo:\", max_saida)\n",
    "\n"
   ]
  }
 ],
 "metadata": {
  "kernelspec": {
   "display_name": "Python 3 (ipykernel)",
   "language": "python",
   "name": "python3"
  },
  "language_info": {
   "codemirror_mode": {
    "name": "ipython",
    "version": 3
   },
   "file_extension": ".py",
   "mimetype": "text/x-python",
   "name": "python",
   "nbconvert_exporter": "python",
   "pygments_lexer": "ipython3",
   "version": "3.11.1"
  }
 },
 "nbformat": 4,
 "nbformat_minor": 4
}
